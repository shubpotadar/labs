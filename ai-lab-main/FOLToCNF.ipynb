{
  "cells": [
    {
      "cell_type": "code",
      "execution_count": 1,
      "metadata": {
        "id": "GkwENp3wjTJS"
      },
      "outputs": [],
      "source": [
        "def getAttributes(string):\n",
        "    expr = '\\([^)]+\\)'\n",
        "    matches = re.findall(expr, string)\n",
        "    return [m for m in str(matches) if m.isalpha()]\n",
        "\n",
        "def getPredicates(string):\n",
        "    expr = '[a-z~]+\\([A-Za-z,]+\\)'\n",
        "    return re.findall(expr, string)\n",
        "\n",
        "def DeMorgan(sentence):\n",
        "    string = ''.join(list(sentence).copy())\n",
        "    string = string.replace('~~','')\n",
        "    flag = '[' in string\n",
        "    string = string.replace('~[','')\n",
        "    string = string.strip(']')\n",
        "    for predicate in getPredicates(string):\n",
        "        string = string.replace(predicate, f'~{predicate}')\n",
        "    s = list(string)\n",
        "    for i, c in enumerate(string):\n",
        "        if c == '|':\n",
        "            s[i] = '&'\n",
        "        elif c == '&':\n",
        "            s[i] = '|'\n",
        "    string = ''.join(s)    \n",
        "    string = string.replace('~~','')\n",
        "    return f'[{string}]' if flag else string\n",
        "\n",
        "def Skolemization(sentence):\n",
        "    SKOLEM_CONSTANTS = [f'{chr(c)}' for c in range(ord('A'), ord('Z')+1)]\n",
        "    statement = ''.join(list(sentence).copy())\n",
        "    matches = re.findall('[∀∃].', statement)\n",
        "    for match in matches[::-1]:\n",
        "        statement = statement.replace(match, '')\n",
        "        statements = re.findall('\\[\\[[^]]+\\]]', statement)\n",
        "        for s in statements:\n",
        "            statement = statement.replace(s, s[1:-1])\n",
        "        for predicate in getPredicates(statement):\n",
        "            attributes = getAttributes(predicate)\n",
        "            if ''.join(attributes).islower():\n",
        "                statement = statement.replace(match[1],SKOLEM_CONSTANTS.pop(0))\n",
        "            else:\n",
        "                aL = [a for a in attributes if a.islower()]\n",
        "                aU = [a for a in attributes if not a.islower()][0]\n",
        "                statement = statement.replace(aU, f'{SKOLEM_CONSTANTS.pop(0)}({aL[0] if len(aL) else match[1]})')\n",
        "    return statement"
      ]
    },
    {
      "cell_type": "code",
      "execution_count": 2,
      "metadata": {
        "id": "npuXHHcpm371"
      },
      "outputs": [],
      "source": [
        "import re\n",
        "\n",
        "def fol_to_cnf(fol):\n",
        "    \n",
        "    statement = fol.replace(\"<=>\", \"_\")\n",
        "    while '_' in statement:\n",
        "        i = statement.index('_')\n",
        "        new_statement = '[' + statement[:i] + '=>' + statement[i+1:] + ']&['+ statement[i+1:] + '=>' + statement[:i] + ']'\n",
        "        statement = new_statement\n",
        "    statement = statement.replace(\"=>\", \"-\")\n",
        "    expr = '\\[([^]]+)\\]'\n",
        "    statements = re.findall(expr, statement)\n",
        "    for i, s in enumerate(statements):\n",
        "        if '[' in s and ']' not in s:\n",
        "            statements[i] += ']'\n",
        "    for s in statements:\n",
        "        statement = statement.replace(s, fol_to_cnf(s))\n",
        "    while '-' in statement:\n",
        "        i = statement.index('-')\n",
        "        br = statement.index('[') if '[' in statement else 0\n",
        "        new_statement = '~' + statement[br:i] + '|' + statement[i+1:]\n",
        "        statement = statement[:br] + new_statement if br > 0 else new_statement\n",
        "    while '~∀' in statement:\n",
        "        i = statement.index('~∀')\n",
        "        statement = list(statement)\n",
        "        statement[i], statement[i+1], statement[i+2] = '∃', statement[i+2], '~'\n",
        "        statement = ''.join(statement)\n",
        "    while '~∃' in statement:\n",
        "        i = statement.index('~∃')\n",
        "        s = list(statement)\n",
        "        s[i], s[i+1], s[i+2] = '∀', s[i+2], '~'\n",
        "        statement = ''.join(s)\n",
        "    statement = statement.replace('~[∀','[~∀')\n",
        "    statement = statement.replace('~[∃','[~∃')\n",
        "    expr = '(~[∀|∃].)'\n",
        "    statements = re.findall(expr, statement)\n",
        "    for s in statements:\n",
        "        statement = statement.replace(s, fol_to_cnf(s))\n",
        "    expr = '~\\[[^]]+\\]'\n",
        "    statements = re.findall(expr, statement)\n",
        "    for s in statements:\n",
        "        statement = statement.replace(s, DeMorgan(s))\n",
        "    return statement"
      ]
    },
    {
      "cell_type": "code",
      "execution_count": 10,
      "metadata": {
        "colab": {
          "base_uri": "https://localhost:8080/"
        },
        "id": "FHgf0Qn_nssB",
        "outputId": "341ad78a-a0f0-46a7-fcd6-40ffbdf4029e"
      },
      "outputs": [
        {
          "name": "stdout",
          "output_type": "stream",
          "text": [
            "3\n",
            "Enter FOL statement: [american(x)&weapon(y)&sells(x,y,z)&hostile(z)]=>criminal(x)\n",
            "FOL converted to CNF: [~american(x)|~weapon(y)|~sells(x,y,z)|~hostile(z)]|criminal(x) \n",
            "\n",
            "\n",
            "Enter FOL statement: ∀x[∀y[animal(y)=>loves(x,y)]]=>[∃z[loves(z,x)]]\n",
            "FOL converted to CNF: [animal(G(x))&~loves(x,G(x))]|[loves(F(x),x)] \n",
            "\n",
            "\n",
            "Enter FOL statement: animal(y)<=>loves(x,y)\n",
            "FOL converted to CNF: [~animal(y)|loves(x,y)]&[~loves(x,y)|animal(y)] \n",
            "\n",
            "\n"
          ]
        }
      ],
      "source": [
        "#Interactive Test Cases\n",
        "n = int(input())\n",
        "while n:\n",
        "  statement = input(\"Enter FOL statement: \")\n",
        "  print(f\"FOL converted to CNF: {Skolemization(fol_to_cnf(statement))} \\n\\n\")\n",
        "  n -= 1\n",
        "\n",
        "\n",
        "#print(Skolemization(fol_to_cnf(\"∀x[∀y[animal(y)=>loves(x,y)]]=>[∃z[loves(z,x)]]\")))\n",
        "#print(fol_to_cnf(\"[american(x)&weapon(y)&sells(x,y,z)&hostile(z)]=>criminal(x)\"))"
      ]
    }
  ],
  "metadata": {
    "colab": {
      "name": "FOLToCNF.ipynb",
      "provenance": []
    },
    "kernelspec": {
      "display_name": "Python 3",
      "name": "python3"
    }
  },
  "nbformat": 4,
  "nbformat_minor": 0
}
